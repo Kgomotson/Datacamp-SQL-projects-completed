{
 "cells": [
  {
   "cell_type": "markdown",
   "id": "d0eb4f16-5a99-460d-a5ba-706b7ef0bbe7",
   "metadata": {
    "id": "bA5ajAmk7XH6"
   },
   "source": [
    "![Factories creating emissions](pollution.jpg)\n",
    "\n",
    "Photo by Maxim Tolchinskiy on Unsplash\n",
    "  \n",
    "When factoring heat generation required for the manufacturing and transportation of products, _Greenhouse gas emissions attributable to products, from food to sneakers to appliances, make up more than 75% of global emissions._ (`Source: The Carbon Catalogue https://www.nature.com/articles/s41597-022-01178-9`)\n",
    "\n",
    "Our data, which is publicly available on nature.com, contains product carbon footprints (PCFs) for various companies. PCFs are the greenhouse gas emissions attributable to a given product, measured in CO<sub>2</sub> (carbon dioxide equivalent).\n",
    "<!--https://www.nature.com/articles/s41597-022-01178-9-->\n",
    "\n",
    "This data is stored in a PostgreSQL database containing one table, `product_emissions`, which looks at PCFs by product as well as the stage of production that these emissions occurred. Here's a snapshot of what `product_emissions` contains in each column:\n",
    "\n",
    "### `product_emissions`\n",
    "\n",
    "| field                              | data type |\n",
    "|------------------------------------|-----------|\n",
    "| `id`                                 | `VARCHAR`   |\n",
    "| `year`                               | `INT`       |\n",
    "| `product_name`                       | `VARCHAR`   |\n",
    "| `company`                            | `VARCHAR`   |\n",
    "| `country`                            | `VARCHAR`   |\n",
    "| `industry_group`                     | `VARCHAR`   |\n",
    "| `weight_kg`                          | `NUMERIC`   |\n",
    "| `carbon_footprint_pcf`               | `NUMERIC`   |\n",
    "| `upstream_percent_total_pcf`         | `VARCHAR`   |\n",
    "| `operations_percent_total_pcf`       | `VARCHAR`   |\n",
    "| `downstream_percent_total_pcf`       | `VARCHAR`   |\n",
    "\n",
    "You'll use this data to examine the carbon footprint of each industry in the dataset! "
   ]
  },
  {
   "cell_type": "code",
   "execution_count": 44,
   "id": "f76f5039-ed23-424e-84e7-143d44331a05",
   "metadata": {
    "customType": "sql",
    "dataFrameVariableName": "carbon_emissions_by_industry",
    "executionCancelledAt": null,
    "executionTime": 1135,
    "lastExecutedAt": 1737297067930,
    "lastExecutedByKernel": "34c488ee-bcde-4465-b96c-98817e15ea52",
    "lastScheduledRunId": null,
    "lastSuccessfullyExecutedCode": "-- Update your query here\nSELECT *\nFROM product_emissions\nLIMIT 5;",
    "outputsMetadata": {
     "0": {
      "height": 50,
      "tableState": {
       "customFilter": {
        "const": {
         "type": "boolean",
         "valid": true,
         "value": true
        },
        "id": "b039e517-d719-4683-a3fa-77b92be29ec2",
        "nodeType": "const"
       },
       "quickFilterText": ""
      },
      "type": "dataFrame"
     }
    },
    "sqlCellMode": "dataFrame",
    "sqlSource": {
     "integrationId": "89e17161-a224-4a8a-846b-0adc0fe7a4b1",
     "type": "integration"
    }
   },
   "outputs": [
    {
     "@datacamp/metadata": {
      "executedQuery": "-- Update your query here\nSELECT *\nFROM product_emissions\nLIMIT 5;",
      "executedQueryParameters": []
     },
     "data": {
      "application/com.datacamp.data-table.v2+json": {
       "table": {
        "data": {
         "carbon_footprint_pcf": [
          2,
          2,
          72.54,
          1488,
          1818
         ],
         "company": [
          "Kellogg Company",
          "Kellogg Company",
          "KNOLL INC",
          "Konica Minolta, Inc.",
          "Konica Minolta, Inc."
         ],
         "country": [
          "USA",
          "USA",
          "USA",
          "Japan",
          "Japan"
         ],
         "downstream_percent_total_pcf": [
          "12.50%",
          "12.50%",
          "2.01%",
          "63.84%",
          "70.41%"
         ],
         "id": [
          "10056-1-2014",
          "10056-1-2015",
          "10222-1-2013",
          "10261-1-2017",
          "10261-2-2017"
         ],
         "index": [
          0,
          1,
          2,
          3,
          4
         ],
         "industry_group": [
          "Food, Beverage & Tobacco",
          "Food & Beverage Processing",
          "Capital Goods",
          "Technology Hardware & Equipment",
          "Technology Hardware & Equipment"
         ],
         "operations_percent_total_pcf": [
          "30.00%",
          "30.00%",
          "17.36%",
          "5.51%",
          "4.51%"
         ],
         "product_name": [
          "Frosted Flakes(R) Cereal",
          "Frosted Flakes, 23 oz, produced in Lancaster, PA (one carton)",
          "Office Chair",
          "Multifunction Printers",
          "Multifunction Printers"
         ],
         "upstream_percent_total_pcf": [
          "57.50%",
          "57.50%",
          "80.63%",
          "30.65%",
          "25.08%"
         ],
         "weight_kg": [
          0.7485,
          0.7485,
          20.68,
          110,
          110
         ],
         "year": [
          2014,
          2015,
          2013,
          2017,
          2017
         ]
        },
        "schema": {
         "fields": [
          {
           "name": "index",
           "type": "integer"
          },
          {
           "name": "id",
           "type": "string"
          },
          {
           "name": "year",
           "type": "integer"
          },
          {
           "name": "product_name",
           "type": "string"
          },
          {
           "name": "company",
           "type": "string"
          },
          {
           "name": "country",
           "type": "string"
          },
          {
           "name": "industry_group",
           "type": "string"
          },
          {
           "name": "weight_kg",
           "type": "number"
          },
          {
           "name": "carbon_footprint_pcf",
           "type": "number"
          },
          {
           "name": "upstream_percent_total_pcf",
           "type": "string"
          },
          {
           "name": "operations_percent_total_pcf",
           "type": "string"
          },
          {
           "name": "downstream_percent_total_pcf",
           "type": "string"
          }
         ],
         "pandas_version": "1.4.0",
         "primaryKey": [
          "index"
         ]
        }
       },
       "total_rows": 5,
       "truncation_type": null
      },
      "text/html": [
       "<div>\n",
       "<style scoped>\n",
       "    .dataframe tbody tr th:only-of-type {\n",
       "        vertical-align: middle;\n",
       "    }\n",
       "\n",
       "    .dataframe tbody tr th {\n",
       "        vertical-align: top;\n",
       "    }\n",
       "\n",
       "    .dataframe thead th {\n",
       "        text-align: right;\n",
       "    }\n",
       "</style>\n",
       "<table border=\"1\" class=\"dataframe\">\n",
       "  <thead>\n",
       "    <tr style=\"text-align: right;\">\n",
       "      <th></th>\n",
       "      <th>id</th>\n",
       "      <th>year</th>\n",
       "      <th>product_name</th>\n",
       "      <th>company</th>\n",
       "      <th>country</th>\n",
       "      <th>industry_group</th>\n",
       "      <th>weight_kg</th>\n",
       "      <th>carbon_footprint_pcf</th>\n",
       "      <th>upstream_percent_total_pcf</th>\n",
       "      <th>operations_percent_total_pcf</th>\n",
       "      <th>downstream_percent_total_pcf</th>\n",
       "    </tr>\n",
       "  </thead>\n",
       "  <tbody>\n",
       "    <tr>\n",
       "      <th>0</th>\n",
       "      <td>10056-1-2014</td>\n",
       "      <td>2014</td>\n",
       "      <td>Frosted Flakes(R) Cereal</td>\n",
       "      <td>Kellogg Company</td>\n",
       "      <td>USA</td>\n",
       "      <td>Food, Beverage &amp; Tobacco</td>\n",
       "      <td>0.7485</td>\n",
       "      <td>2.00</td>\n",
       "      <td>57.50%</td>\n",
       "      <td>30.00%</td>\n",
       "      <td>12.50%</td>\n",
       "    </tr>\n",
       "    <tr>\n",
       "      <th>1</th>\n",
       "      <td>10056-1-2015</td>\n",
       "      <td>2015</td>\n",
       "      <td>Frosted Flakes, 23 oz, produced in Lancaster, ...</td>\n",
       "      <td>Kellogg Company</td>\n",
       "      <td>USA</td>\n",
       "      <td>Food &amp; Beverage Processing</td>\n",
       "      <td>0.7485</td>\n",
       "      <td>2.00</td>\n",
       "      <td>57.50%</td>\n",
       "      <td>30.00%</td>\n",
       "      <td>12.50%</td>\n",
       "    </tr>\n",
       "    <tr>\n",
       "      <th>2</th>\n",
       "      <td>10222-1-2013</td>\n",
       "      <td>2013</td>\n",
       "      <td>Office Chair</td>\n",
       "      <td>KNOLL INC</td>\n",
       "      <td>USA</td>\n",
       "      <td>Capital Goods</td>\n",
       "      <td>20.6800</td>\n",
       "      <td>72.54</td>\n",
       "      <td>80.63%</td>\n",
       "      <td>17.36%</td>\n",
       "      <td>2.01%</td>\n",
       "    </tr>\n",
       "    <tr>\n",
       "      <th>3</th>\n",
       "      <td>10261-1-2017</td>\n",
       "      <td>2017</td>\n",
       "      <td>Multifunction Printers</td>\n",
       "      <td>Konica Minolta, Inc.</td>\n",
       "      <td>Japan</td>\n",
       "      <td>Technology Hardware &amp; Equipment</td>\n",
       "      <td>110.0000</td>\n",
       "      <td>1488.00</td>\n",
       "      <td>30.65%</td>\n",
       "      <td>5.51%</td>\n",
       "      <td>63.84%</td>\n",
       "    </tr>\n",
       "    <tr>\n",
       "      <th>4</th>\n",
       "      <td>10261-2-2017</td>\n",
       "      <td>2017</td>\n",
       "      <td>Multifunction Printers</td>\n",
       "      <td>Konica Minolta, Inc.</td>\n",
       "      <td>Japan</td>\n",
       "      <td>Technology Hardware &amp; Equipment</td>\n",
       "      <td>110.0000</td>\n",
       "      <td>1818.00</td>\n",
       "      <td>25.08%</td>\n",
       "      <td>4.51%</td>\n",
       "      <td>70.41%</td>\n",
       "    </tr>\n",
       "  </tbody>\n",
       "</table>\n",
       "</div>"
      ],
      "text/plain": [
       "             id  year  ... operations_percent_total_pcf downstream_percent_total_pcf\n",
       "0  10056-1-2014  2014  ...                       30.00%                       12.50%\n",
       "1  10056-1-2015  2015  ...                       30.00%                       12.50%\n",
       "2  10222-1-2013  2013  ...                       17.36%                        2.01%\n",
       "3  10261-1-2017  2017  ...                        5.51%                       63.84%\n",
       "4  10261-2-2017  2017  ...                        4.51%                       70.41%\n",
       "\n",
       "[5 rows x 11 columns]"
      ]
     },
     "execution_count": 44,
     "metadata": {
      "application/com.datacamp.data-table.v2+json": {
       "status": "success"
      }
     },
     "output_type": "execute_result"
    }
   ],
   "source": [
    "-- Update your query here\n",
    "SELECT *\n",
    "FROM product_emissions\n",
    "LIMIT 5;"
   ]
  },
  {
   "cell_type": "code",
   "execution_count": 45,
   "id": "56985695-665f-4121-88b9-fac0d56e5410",
   "metadata": {
    "customType": "sql",
    "dataFrameVariableName": "df1",
    "executionCancelledAt": null,
    "executionTime": null,
    "lastExecutedAt": null,
    "lastExecutedByKernel": null,
    "lastScheduledRunId": null,
    "lastSuccessfullyExecutedCode": null,
    "outputsMetadata": {
     "0": {
      "height": 50,
      "tableState": {
       "customFilter": {
        "const": {
         "type": "boolean",
         "valid": true,
         "value": true
        },
        "id": "f96a90d9-1627-480d-944f-61b5166952e5",
        "nodeType": "const"
       },
       "quickFilterText": ""
      },
      "type": "dataFrame"
     }
    },
    "sqlCellMode": "dataFrame",
    "sqlSource": {
     "integrationId": "89e17161-a224-4a8a-846b-0adc0fe7a4b1",
     "type": "integration"
    }
   },
   "outputs": [
    {
     "@datacamp/metadata": {
      "executedQuery": "SELECT DISTINCT industry_group,COUNT(DISTINCT company) AS company ,ROUND(SUM(carbon_footprint_pcf),1) AS total_industry_footprint\nFROM product_emissions\nWHERE year = 2017 \nGROUP BY industry_group,company\nORDER BY total_industry_footprint DESC;",
      "executedQueryParameters": []
     },
     "data": {
      "application/com.datacamp.data-table.v2+json": {
       "table": {
        "data": {
         "company": [
          1,
          1,
          1,
          1,
          1,
          1,
          1,
          1,
          1,
          1,
          1,
          1
         ],
         "index": [
          0,
          1,
          2,
          3,
          4,
          5,
          6,
          7,
          8,
          9,
          10,
          11
         ],
         "industry_group": [
          "Materials",
          "Capital Goods",
          "Technology Hardware & Equipment",
          "Technology Hardware & Equipment",
          "Food, Beverage & Tobacco",
          "Technology Hardware & Equipment",
          "Materials",
          "Commercial & Professional Services",
          "Software & Services",
          "Materials",
          "Technology Hardware & Equipment",
          "Capital Goods"
         ],
         "total_industry_footprint": [
          106008,
          94937,
          14500,
          5580,
          3161.5,
          1640,
          870,
          740.6,
          690,
          251,
          145.1,
          5.7
         ]
        },
        "schema": {
         "fields": [
          {
           "name": "index",
           "type": "integer"
          },
          {
           "name": "industry_group",
           "type": "string"
          },
          {
           "name": "company",
           "type": "integer"
          },
          {
           "name": "total_industry_footprint",
           "type": "number"
          }
         ],
         "pandas_version": "1.4.0",
         "primaryKey": [
          "index"
         ]
        }
       },
       "total_rows": 12,
       "truncation_type": null
      },
      "text/html": [
       "<div>\n",
       "<style scoped>\n",
       "    .dataframe tbody tr th:only-of-type {\n",
       "        vertical-align: middle;\n",
       "    }\n",
       "\n",
       "    .dataframe tbody tr th {\n",
       "        vertical-align: top;\n",
       "    }\n",
       "\n",
       "    .dataframe thead th {\n",
       "        text-align: right;\n",
       "    }\n",
       "</style>\n",
       "<table border=\"1\" class=\"dataframe\">\n",
       "  <thead>\n",
       "    <tr style=\"text-align: right;\">\n",
       "      <th></th>\n",
       "      <th>industry_group</th>\n",
       "      <th>company</th>\n",
       "      <th>total_industry_footprint</th>\n",
       "    </tr>\n",
       "  </thead>\n",
       "  <tbody>\n",
       "    <tr>\n",
       "      <th>0</th>\n",
       "      <td>Materials</td>\n",
       "      <td>1</td>\n",
       "      <td>106008.0</td>\n",
       "    </tr>\n",
       "    <tr>\n",
       "      <th>1</th>\n",
       "      <td>Capital Goods</td>\n",
       "      <td>1</td>\n",
       "      <td>94937.0</td>\n",
       "    </tr>\n",
       "    <tr>\n",
       "      <th>2</th>\n",
       "      <td>Technology Hardware &amp; Equipment</td>\n",
       "      <td>1</td>\n",
       "      <td>14500.0</td>\n",
       "    </tr>\n",
       "    <tr>\n",
       "      <th>3</th>\n",
       "      <td>Technology Hardware &amp; Equipment</td>\n",
       "      <td>1</td>\n",
       "      <td>5580.0</td>\n",
       "    </tr>\n",
       "    <tr>\n",
       "      <th>4</th>\n",
       "      <td>Food, Beverage &amp; Tobacco</td>\n",
       "      <td>1</td>\n",
       "      <td>3161.5</td>\n",
       "    </tr>\n",
       "    <tr>\n",
       "      <th>5</th>\n",
       "      <td>Technology Hardware &amp; Equipment</td>\n",
       "      <td>1</td>\n",
       "      <td>1640.0</td>\n",
       "    </tr>\n",
       "    <tr>\n",
       "      <th>6</th>\n",
       "      <td>Materials</td>\n",
       "      <td>1</td>\n",
       "      <td>870.0</td>\n",
       "    </tr>\n",
       "    <tr>\n",
       "      <th>7</th>\n",
       "      <td>Commercial &amp; Professional Services</td>\n",
       "      <td>1</td>\n",
       "      <td>740.6</td>\n",
       "    </tr>\n",
       "    <tr>\n",
       "      <th>8</th>\n",
       "      <td>Software &amp; Services</td>\n",
       "      <td>1</td>\n",
       "      <td>690.0</td>\n",
       "    </tr>\n",
       "    <tr>\n",
       "      <th>9</th>\n",
       "      <td>Materials</td>\n",
       "      <td>1</td>\n",
       "      <td>251.0</td>\n",
       "    </tr>\n",
       "    <tr>\n",
       "      <th>10</th>\n",
       "      <td>Technology Hardware &amp; Equipment</td>\n",
       "      <td>1</td>\n",
       "      <td>145.1</td>\n",
       "    </tr>\n",
       "    <tr>\n",
       "      <th>11</th>\n",
       "      <td>Capital Goods</td>\n",
       "      <td>1</td>\n",
       "      <td>5.7</td>\n",
       "    </tr>\n",
       "  </tbody>\n",
       "</table>\n",
       "</div>"
      ],
      "text/plain": [
       "                        industry_group  company  total_industry_footprint\n",
       "0                            Materials        1                  106008.0\n",
       "1                        Capital Goods        1                   94937.0\n",
       "2      Technology Hardware & Equipment        1                   14500.0\n",
       "3      Technology Hardware & Equipment        1                    5580.0\n",
       "4             Food, Beverage & Tobacco        1                    3161.5\n",
       "5      Technology Hardware & Equipment        1                    1640.0\n",
       "6                            Materials        1                     870.0\n",
       "7   Commercial & Professional Services        1                     740.6\n",
       "8                  Software & Services        1                     690.0\n",
       "9                            Materials        1                     251.0\n",
       "10     Technology Hardware & Equipment        1                     145.1\n",
       "11                       Capital Goods        1                       5.7"
      ]
     },
     "execution_count": 45,
     "metadata": {
      "application/com.datacamp.data-table.v2+json": {
       "status": "success"
      }
     },
     "output_type": "execute_result"
    }
   ],
   "source": [
    "SELECT DISTINCT industry_group,COUNT(DISTINCT company) AS company ,ROUND(SUM(carbon_footprint_pcf),1) AS total_industry_footprint\n",
    "FROM product_emissions\n",
    "WHERE year = 2017 \n",
    "GROUP BY industry_group,company\n",
    "ORDER BY total_industry_footprint DESC;"
   ]
  }
 ],
 "metadata": {
  "editor": "DataLab",
  "kernelspec": {
   "display_name": "Python [conda env:base] *",
   "language": "python",
   "name": "conda-base-py"
  },
  "language_info": {
   "codemirror_mode": {
    "name": "ipython",
    "version": 3
   },
   "file_extension": ".py",
   "mimetype": "text/x-python",
   "name": "python",
   "nbconvert_exporter": "python",
   "pygments_lexer": "ipython3",
   "version": "3.12.7"
  }
 },
 "nbformat": 4,
 "nbformat_minor": 5
}
